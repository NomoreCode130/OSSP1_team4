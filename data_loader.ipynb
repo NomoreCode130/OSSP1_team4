{
  "nbformat": 4,
  "nbformat_minor": 0,
  "metadata": {
    "colab": {
      "provenance": [],
      "authorship_tag": "ABX9TyN15Bm/v2rOKpzj4dF5Q5gD",
      "include_colab_link": true
    },
    "kernelspec": {
      "name": "python3",
      "display_name": "Python 3"
    },
    "language_info": {
      "name": "python"
    }
  },
  "cells": [
    {
      "cell_type": "markdown",
      "metadata": {
        "id": "view-in-github",
        "colab_type": "text"
      },
      "source": [
        "<a href=\"https://colab.research.google.com/github/NomoreCode130/OSSP1_team4/blob/main/data_loader.ipynb\" target=\"_parent\"><img src=\"https://colab.research.google.com/assets/colab-badge.svg\" alt=\"Open In Colab\"/></a>"
      ]
    },
    {
      "cell_type": "code",
      "execution_count": null,
      "metadata": {
        "id": "33w-eq93FqAk"
      },
      "outputs": [],
      "source": [
        "from torch.utils.data import Dataset\n",
        "import torch"
      ]
    },
    {
      "cell_type": "code",
      "source": [
        "class eyes_dataset(Dataset):\n",
        "    def __init__(self, x_file_paths, y_file_path, transform=None):\n",
        "        self.x_files = x_file_paths\n",
        "        self.y_files = y_file_path\n",
        "        self.transform = transform\n",
        "\n",
        "    def __getitem__(self, idx):\n",
        "        x = self.x_files[idx]\n",
        "        x = torch.from_numpy(x).float()\n",
        "\n",
        "        y = self.y_files[idx]\n",
        "        y = torch.from_numpy(y).float()\n",
        "\n",
        "        return x, y\n",
        "\n",
        "    def __len__(self):\n",
        "        return len(self.x_files)"
      ],
      "metadata": {
        "id": "lkBkgZpaGCkh"
      },
      "execution_count": null,
      "outputs": []
    }
  ]
}