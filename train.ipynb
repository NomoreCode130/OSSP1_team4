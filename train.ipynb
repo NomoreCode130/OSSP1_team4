{
  "nbformat": 4,
  "nbformat_minor": 0,
  "metadata": {
    "colab": {
      "provenance": [],
      "authorship_tag": "ABX9TyPlNBmSIM0JPMN1T7+wMkzX",
      "include_colab_link": true
    },
    "kernelspec": {
      "name": "python3",
      "display_name": "Python 3"
    },
    "language_info": {
      "name": "python"
    }
  },
  "cells": [
    {
      "cell_type": "markdown",
      "metadata": {
        "id": "view-in-github",
        "colab_type": "text"
      },
      "source": [
        "<a href=\"https://colab.research.google.com/github/NomoreCode130/OSSP1_team4/blob/main/train.ipynb\" target=\"_parent\"><img src=\"https://colab.research.google.com/assets/colab-badge.svg\" alt=\"Open In Colab\"/></a>"
      ]
    },
    {
      "cell_type": "code",
      "execution_count": null,
      "metadata": {
        "id": "2QVESZrHNO7K"
      },
      "outputs": [],
      "source": [
        "import numpy as np\n",
        "import matplotlib.pyplot as plt\n",
        "import torch\n",
        "import torch.nn as nn\n",
        "from torchvision.transforms import transforms\n",
        "from torch.utils.data import DataLoader\n",
        "from data_loader import eyes_dataset\n",
        "from model import Net\n",
        "import torch.optim as optim"
      ]
    },
    {
      "cell_type": "code",
      "source": [
        "x_train = np.load('./dataset/x_train.npy').astype(np.float32)  # (2586, 26, 34, 1)\n",
        "y_train = np.load('./dataset/y_train.npy').astype(np.float32)  # (2586, 1)\n",
        "\n",
        "device = torch.device(\"cuda\" if torch.cuda.is_available() else \"cpu\")\n",
        "\n",
        "train_transform = transforms.Compose([\n",
        "    transforms.ToTensor(),\n",
        "    transforms.RandomRotation(10),\n",
        "    transforms.RandomHorizontalFlip(),\n",
        "])\n",
        "\n",
        "train_dataset = eyes_dataset(x_train, y_train, transform=train_transform)"
      ],
      "metadata": {
        "id": "RRoZzKSRkUm9"
      },
      "execution_count": null,
      "outputs": []
    },
    {
      "cell_type": "code",
      "source": [
        "#--------데이터를 잘 불러왔는지, 라벨링이 잘되었는지를 확인----------\n",
        "# plt.style.use('dark_background')\n",
        "# fig = plt.figure()\n",
        "#\n",
        "# for i in range(len(train_dataset)):\n",
        "#     x, y = train_dataset[i]\n",
        "#\n",
        "#\n",
        "#     plt.subplot(2, 1, 1)\n",
        "#     plt.title(str(y_train[i]))\n",
        "#     print(x_train[i].shape)\n",
        "#     plt.imshow(x_train[i].reshape((26, 34)), cmap='gray')\n",
        "#     print(x_train[i].shape)\n",
        "#     print(x_train[i].reshape((26, 34)).shape)\n",
        "#\n",
        "#     plt.show()"
      ],
      "metadata": {
        "id": "kjDnkEEQkZ17"
      },
      "execution_count": null,
      "outputs": []
    },
    {
      "cell_type": "code",
      "source": [
        "PATH = 'weights/classifier_weights_iter_50.pt'\n",
        "\n",
        "train_dataloader = DataLoader(train_dataset, batch_size=32, shuffle=True, num_workers=4)\n",
        "\n",
        "model = Net()\n",
        "model.to(device)\n",
        "\n",
        "criterion = nn.BCEWithLogitsLoss()\n",
        "optimizer = optim.Adam(model.parameters(), lr=0.0001)\n",
        "\n",
        "epochs = 20"
      ],
      "metadata": {
        "id": "PjdlEEoEkrLO"
      },
      "execution_count": null,
      "outputs": []
    },
    {
      "cell_type": "code",
      "source": [
        "def accuracy(y_pred, y_test):\n",
        "    y_pred_tag = torch.round(torch.sigmoid(y_pred))\n",
        "\n",
        "    correct_results_sum = (y_pred_tag == y_test).sum().float()\n",
        "    acc = correct_results_sum / y_test.shape[0]\n",
        "    acc = torch.round(acc * 100)\n",
        "\n",
        "    return acc"
      ],
      "metadata": {
        "id": "BQpb1iDok4U9"
      },
      "execution_count": null,
      "outputs": []
    },
    {
      "cell_type": "code",
      "source": [
        "for epoch in range(epochs):\n",
        "    running_loss = 0.0\n",
        "    running_acc = 0.0\n",
        "\n",
        "    model.train()\n",
        "\n",
        "    for i, data in enumerate(train_dataloader, 0):\n",
        "        input_1, labels = data[0].to(device), data[1].to(device)\n",
        "\n",
        "        input = input_1.transpose(1, 3).transpose(2, 3)\n",
        "\n",
        "        optimizer.zero_grad()\n",
        "\n",
        "        outputs = model(input)\n",
        "\n",
        "        loss = criterion(outputs, labels)\n",
        "        loss.backward()\n",
        "        optimizer.step()\n",
        "\n",
        "        running_loss += loss.item()\n",
        "        running_acc += accuracy(outputs, labels)\n",
        "\n",
        "        if i % 80 == 79:\n",
        "            print('epoch: [%d/%d] train_loss: %.5f train_acc: %.5f' % (\n",
        "                epoch + 1, epochs, running_loss / 80, running_acc / 80))\n",
        "            running_loss = 0.0\n",
        "\n",
        "print(\"learning finish\")\n",
        "torch.save(model.state_dict(), PATH)"
      ],
      "metadata": {
        "id": "Dge_maPSk7Ir"
      },
      "execution_count": null,
      "outputs": []
    }
  ]
}